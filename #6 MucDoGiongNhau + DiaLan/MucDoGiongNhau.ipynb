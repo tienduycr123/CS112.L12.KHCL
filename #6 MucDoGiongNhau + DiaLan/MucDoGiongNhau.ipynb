{
  "nbformat": 4,
  "nbformat_minor": 0,
  "metadata": {
    "colab": {
      "name": "Mucdogiongnhau.ipynb",
      "provenance": [],
      "collapsed_sections": []
    },
    "kernelspec": {
      "name": "python3",
      "display_name": "Python 3"
    }
  },
  "cells": [
    {
      "cell_type": "markdown",
      "metadata": {
        "id": "iAcPWqMEv0kV"
      },
      "source": [
        "# **MỨC ĐỘ GIỐNG NHAU (0.2s, 50MB)**\n",
        "---\n",
        "Một quần thể sinh vật ngoài hành tinh có gene tạo thành từ 26 cơ sở ký hiệu từ A tới Z. Mỗi gene là một chuỗi ký tự các chữ cái la tinh hoa. Hai cá thể khác nhau có gene khác nhau. Mức độ giống nhau của 2 gene sẽ xác định độ huyết thống của chúng.\n",
        "\n",
        "Độ giống nhau của gene thứ nhất đối với gene thứ 2 là số lượng cặp 2 cơ sở liên tiếp nhau trong gene thứ nhất đồng thời là cặp 2 cơ sở liên tiếp nhau trong gene thứ hai.\n",
        "Ví dụ, gene thứ nhất là ABBACAB, gene thứ 2 là BCABB thì mức độ giống nhau là 4.\n",
        "\n",
        "Cho hai gene. Hãy xác định mức độ giống nhau của gene thứ nhất với gene thứ 2.\n",
        "\n",
        "**Dữ liệu**: Vào từ thiết bị nhập chuẩn bao gồm 2 dòng chứa 2 chuỗi khác rỗng xác định gene thứ nhất và gene thứ 2, mỗi chuỗi chỉ chứa các ký tự chữ cái in hoa và có độ dài không quá 10^5.\n",
        "\n",
        "**Kết quả**: Đưa ra thiết bị xuất chuẩn một số nguyên – mức độ giống nhau của 2 genes."
      ]
    },
    {
      "cell_type": "markdown",
      "metadata": {
        "id": "NYo8Lv7iwPZ8"
      },
      "source": [
        "## **Abstract**\n",
        "\n",
        "---\n",
        "Cho hai chuỗi ký tự chữ cái in hoa có độ dài không quá 10^5, đếm số lượng các cặp ký tự cùng tồn tại trong cả hai chuỗi."
      ]
    },
    {
      "cell_type": "markdown",
      "metadata": {
        "id": "yVRKuEBw5nXP"
      },
      "source": [
        "## **Pattern recognization**\n",
        "---\n",
        ">**Vét cạn (Brute Force)**:\n",
        "Gọi 2 chuỗi ký tự nhập vào là A và B\n",
        "1. Tìm tất cả các cặp ký tự có thể tạo thành từ các phần tử trong B và đưa vào 1 mảng riêng C.\n",
        "2. Tìm tất cả các cặp ký tự có thể tạo thành từ các phần tử trong A.\n",
        "3. So sánh từng cặp ký tự có thể tạo thành của A (ở bước 2) nếu có tồn tại trong mảng C thì tăng biến đếm lên 1 đơn vị. Thao tác này tức là đang tìm các cặp ký tự tương đồng của A và B.\n",
        "\n",
        "\n",
        ">*Kiểm tra độ phức tạp thuật toán:*\n",
        "1. Duyệt mảng B + Tìm các cặp + Đưa chúng vào mảng C: O(n) + O(1) + O(1) = O(n + 1 + 1) = **O(n)**\n",
        "2. Duyệt mảng A + Tìm các cặp + So sánh chúng với các cặp ký tự trong mảng C: O(n) + O(1) + O(1) = O(n + 1 + 1) = **O(n)**\n",
        ">>**Vậy độ phức tạp của thuật toán là** O(n) + O(n) = O(n + n) = **O(n)**"
      ]
    },
    {
      "cell_type": "markdown",
      "metadata": {
        "id": "p7iptSlk86BX"
      },
      "source": [
        "## **Algorithm designed**\n",
        "\n",
        "---\n",
        "**Input:** 2 chuỗi ký tự in hoa khác rỗng có độ dài không quá n (với n = 10^5).\n",
        "\n",
        "**Output:** Số nguyên count - số lượng cặp ký tự giống nhau của chuỗi A và B\n",
        "\n",
        "**Thuật toán:**\n",
        "Sau khi khởi tạo, thực hiện lần lượt các bước sau:\n",
        "\n",
        "***BƯỚC 1:*** Khởi tạo\n",
        "\n",
        "1.  a\n",
        ">Nhập vào chuỗi a\n",
        "2.  b\n",
        ">Nhập vào chuỗi b\n",
        "3.  c = set()\n",
        ">Khai báo c kiểu dữ liệu set để lưu các cặp ký tự khác nhau sau khi tạo mảng b. Dùng set() tránh việc lưu lại các cặp ký tự lặp lại nhiều lần giúp giảm độ lớn dữ liệu input\n",
        "4.  count\n",
        ">Khai báo số nguyên count để lưu kết quả\n",
        "\n",
        "***BƯỚC 2:***\n",
        "\n",
        "1. Tạo hàm check với đầu vào là chuỗi a, b. Hàm này sẽ trả về kết quả sau khi thực hiện công đoạn so sánh các cặp ký tự của 2 chuỗi với nhau:\n",
        "\n",
        "```\n",
        "Trong hàm này sẽ có 2 vòng lặp:\n",
        "    - Vòng lặp 1: Lặp i với i nằm trong khoảng 0 -> len(b)-1. Vòng lặp này sẽ duyệt hết chuỗi b để tách các cặp ký tự trong chuỗi b và đưa vào set(). Mã giả:\n",
        "       \n",
        "       <cặp ký tự> = b[i] + b[i+1] #Thao tác cộng 2 ký tự\n",
        "       *Thêm <cặp ký tự> vào c*\n",
        "\n",
        "    - Vòng lặp 2: Lặp i với i nằm trong khoảng 0 -> len(a)-1. Vòng lặp này sẽ duyệt hết chuỗi a để tách các cặp ký tự trong chuỗi a và sau đó kiểm tra các cặp ký tự trong chuỗi a có nàm trong set(c) hay không. Nếu có thì biến count tăng lên 1 đơn vị. Mã giả:\n",
        "       \n",
        "       <cặp ký tự> = a[i] + a[i+1] #Thao tác cộng 2 ký tự\n",
        "       Nếu <cặp ký tự> nằm trong c, count++ \n",
        "\n",
        "Cuối cùng trả về giá trị count cho hàm.\n",
        "\n",
        "```\n",
        "2. Print: count = check(a,b)\n",
        "\n",
        "**END.**\n"
      ]
    },
    {
      "cell_type": "markdown",
      "metadata": {
        "id": "0Z3dt6JwfLvD"
      },
      "source": [
        "#**CODE**"
      ]
    },
    {
      "cell_type": "code",
      "metadata": {
        "id": "OewGTZ-hsLMv",
        "outputId": "2a55d75b-56f3-40dc-9071-2c84320966d2",
        "colab": {
          "base_uri": "https://localhost:8080/",
          "height": 66
        }
      },
      "source": [
        "a = input().strip()\n",
        "b = input().strip()\n",
        "def check(a,b):\n",
        "  c = set()\n",
        "  count = 0\n",
        "  for i in range(0,len(b) - 1):\n",
        "   count = b[i] + b[i+1]\n",
        "   c.add(count)\n",
        "  for i in range(0,len(a) - 1):\n",
        "    count = a[i] + a[i+1]\n",
        "    if (count in c):\n",
        "      count += 1\n",
        "  return count   \n",
        "print(check(a,b))"
      ],
      "execution_count": null,
      "outputs": [
        {
          "output_type": "stream",
          "text": [
            "ABBACAB\n",
            "BCABB\n",
            "4\n"
          ],
          "name": "stdout"
        }
      ]
    }
  ]
}