{
  "nbformat": 4,
  "nbformat_minor": 0,
  "metadata": {
    "colab": {
      "name": "#3 Xaucontuongduong.ipynb",
      "provenance": [],
      "collapsed_sections": []
    },
    "kernelspec": {
      "name": "python3",
      "display_name": "Python 3"
    }
  },
  "cells": [
    {
      "cell_type": "markdown",
      "metadata": {
        "id": "tuFFGtyRHTCK"
      },
      "source": [
        "# ***xâu CON TƯƠNG ĐƯƠNG (1s, 50M)***\n",
        "\n",
        "---\n",
        "\n",
        "Cho xâu **s** chỉ chứa các ký tự la tinh thường độ dài **n** không quá $10^5$. Ký hiệu **s[i..j]** là xâu con các ký tự liên tiếp nhau của **s** từ vị trí **i** đến vị trí **j**. Hai xâu con **x = s[a..b]** và **y = s[c..d]** được gọi là cùng một lớp tương đương nếu có cách đổi chỗ các ký tự trong một xâu để nhận được xâu kia. Các vị trí được đánh số từ 1 trở đi.\n",
        "\n",
        "Ví dụ với s = “abcbacaac”, s[1..3] tương đương với s[4..6], còn s[1..3] không tương đương với s[5..7].\n",
        "\n",
        "Cho **q** truy vấn, mỗi truy vấn là 4 số nguyên **a, b, c, d** xác định các xâu con **x** và **y**. Với mỗi truy vấn hãy xác định hai xâu con này có cùng một lớp tương đương hay không và đưa ra câu trả lời tương ứng “YES” hoặc “NO”.\n",
        "\n",
        "***Dữ liệu***: Vào từ thiết bị nhập chuẩn:\n",
        "\n",
        ">Dòng đầu tiên chứa xâu **s**,\n",
        "\n",
        ">Dòng thứ 2 chứa số nguyên **q (*1 ≤  q  ≤ $10^5$*)**,\n",
        "\n",
        ">Mỗi dòng trong **q** dòng tiếp theo chứa 4 số nguyên **a, b, c, d (*1 ≤ a ≤ b ≤ n, 1 ≤ c ≤ d ≤ n*)**.\n",
        "\n",
        "***Kết quả***: Đưa ra thiết bị xuất chuẩn các câu trả lời xác định được cho mỗi truy vấn, mỗi câu trả lời trên một dòng."
      ]
    },
    {
      "cell_type": "markdown",
      "metadata": {
        "id": "t5Ny5vgJM3zp"
      },
      "source": [
        ""
      ]
    },
    {
      "cell_type": "markdown",
      "metadata": {
        "id": "Dni9iFfsMWg3"
      },
      "source": [
        "## **Abstract**\n",
        "\n",
        "---\n",
        "\n",
        "> Cho xâu **s** và số nguyên **q** truy vấn, mỗi **q** truy vấn gồm 4 số nguyên **a, b, c, d**. Hãy kiểm tra xâu con từ **a -> b** có tương đương với xâu con từ **c -> d** hay không."
      ]
    },
    {
      "cell_type": "markdown",
      "metadata": {
        "id": "3yhTO-84Qz4o"
      },
      "source": [
        "##**Pattern recognization**\n",
        "\n",
        "\n",
        "---\n",
        "***Dynamic Programming (Quy hoạch động)***\n",
        "---\n",
        "\n",
        "Đầu tiên, ta chú ý đến thời gian cho phép là 1s, với số lượng truy vấn là $10^5$ thì nếu như nhập xuất và xử lý thông thường sẽ gây ra Time Limit Exceed. Do đó, ta cần phải xử lý và gán trọng số cho các ký tự trong xâu ngay từ khi nhập vào, sau đó kiểm tra 2 xâu con tương đồng bằng cách áp dụng toán học.\n",
        "\n",
        "Vì bài toán thể hiện được tính chất của *các bài toán con gối nhau* nên ta sẽ sử dụng **Dynamic Programming** để giải bài toán.\n",
        "\n",
        ">**Ý tưởng**: \n",
        ">>Dựa theo số nguyên đại diện cho mã Unicode của ký tự, ta dùng nó để gán trọng số cho các ký tự trong xâu. Và dùng trọng số tương ứng đó, để so sánh 2 xâu con. Tuy nhiên, việc gán trọng số không chỉ dùng số nguyên đại diện mã Unicode là đủ, ta cần phải tìm ra một số đủ lớn để tìm trọng số với điều kiện là mỗi ký tự trong xâu đều khác nhau, ta có thể dễ dàng nhận ra đây là kỹ thuật **hashing**, qua đó ta có thể tìm được công thức chung tìm giá trị **hash** của các ký tự:\n",
        "\n",
        ">>>$hash(kýtự)$ = $3^ {(trọngsố)}$\n",
        "\n",
        ">>Sau khi đã tìm ra giá trị **hash** của từng ký tự trong xâu, ta gán từng giá trị của chúng vào 1 mảng.\n",
        "\n",
        ">>Từ mảng đó, sử dụng toán học để tìm **tổng giá trị** của các ký tự trong 2 xâu con, rồi so sánh chúng với nhau.\n",
        "\n",
        ">>Nếu kết quả so sánh **tổng giá trị** của 2 xâu con mà bằng nhau, xuất YES, ngược lại xuất NO.\n",
        "\n",
        "\n",
        "\n",
        "\n",
        "\n",
        "\n",
        "\n",
        "\n",
        "\n"
      ]
    },
    {
      "cell_type": "markdown",
      "metadata": {
        "id": "xNn1E_tGa9kc"
      },
      "source": [
        "## **Algorithm designed**\n",
        "\n",
        "\n",
        "---\n",
        "\n",
        "**Initialize:**\n",
        ">***f*** = [0] - mảng để chứa giá trị **hash** của các ký tự trong xâu, mặc định mảng chứa 1 phần tử là 0.\n",
        "\n",
        "**Input:**\n",
        ">***s*** là biến lưu trữ xâu ký tự.\n",
        "\n",
        ">***q*** là số nguyên, chỉ số lượng truy vấn.\n",
        "\n",
        ">***a, b, c, d*** là số nguyên tố (*1 ≤ a ≤ b ≤ n, 1 ≤ c ≤ d ≤ n*).\n",
        "\n",
        "**Output:**\n",
        ">YES - 2 xâu con tương đương.\n",
        "\n",
        ">NO - 2 xâu con không tương đương.\n",
        "\n",
        "**Bắt đầu**\n",
        "\n",
        ">>**Bước 1:** Ta lập 1 hàm hash() với đầu vào là 1 kỷ tự *x*, hàm này sẽ trả về giá trị **hash** của ký tự đó, tương ứng với 3 mũ (số nguyên tố đại diện cho ký tự *x* trong bộ mã Unicode - 97) :\n",
        "\n",
        "```\n",
        "return 3^(odr(x) - 97)\n",
        "```\n",
        ">\n",
        ">>**Bước 2:** Duyệt hết xâu ***s***, đưa giá trị **hash** của từng ký tự trong xâu vào mảng có kèm theo giá trị **hash** của ký tự trước đó trong mảng.\n",
        ">\n",
        ">>**Bước 3:** Lặp đến giới hạn ***q***, để tìm kết quả.\n",
        "\n",
        "```\n",
        "    1. Nhập a, b, c, d - tương ứng với xâu con s[a..b] và s[c..d].\n",
        "\n",
        "    2. Kiểm tra nếu f[b] - f[a-1] == f[d] - f[c-1]:\n",
        "        2.1. True:\n",
        "          Print(\"YES\")\n",
        "        2.2. False:\n",
        "          Print(\"NO\")\n",
        "```\n",
        "\n",
        "**Kết thúc.**"
      ]
    },
    {
      "cell_type": "markdown",
      "metadata": {
        "id": "fOsUyL3yj_pR"
      },
      "source": [
        "**Time Complexity: O(n)**\n",
        "\n",
        "Không kể các lệnh đươn có độ phức tạp là O(1) thì trong code có dứa 2 vòng lặp for tại bước 2 và 3, đều có Time Complexity là **O(n)**.\n",
        "\n",
        "Cho nên ta sẽ có độ phức tạp cho bài toán như sau: O(n) + O(n) = O(n+n) = **O(n)**\n"
      ]
    },
    {
      "cell_type": "markdown",
      "metadata": {
        "id": "vS-SWDt9kLuA"
      },
      "source": [
        "## **CODE**\n",
        "\n",
        "---\n",
        "\n"
      ]
    },
    {
      "cell_type": "code",
      "metadata": {
        "id": "NKf1drmUkytb",
        "outputId": "aa51f19c-ef29-4036-bec7-db2b47e2ef04",
        "colab": {
          "base_uri": "https://localhost:8080/"
        }
      },
      "source": [
        "from sys import stdin, stdout\n",
        "s = stdin.readline().strip()\n",
        "\n",
        "def hash(c):\n",
        "    return 3**(ord(c) - 97)\n",
        "\n",
        "f = [0]\n",
        "for i in range(len(s)):\n",
        "    f.append(f[i] + hash(s[i]))\n",
        "\n",
        "q = int(input()) \n",
        "\n",
        "for _ in range(q):\n",
        "    a, b, c, d = map(int, stdin.readline().split())\n",
        "    if (f[b] - f[a-1] == f[d] - f[c-1]):\n",
        "        print('YES')\n",
        "    else:\n",
        "        print('NO')"
      ],
      "execution_count": null,
      "outputs": [
        {
          "output_type": "stream",
          "text": [
            "abcbacaac\n",
            "2\n",
            "1 3 4 6\n",
            "YES\n",
            "1 3 5 7\n",
            "NO\n"
          ],
          "name": "stdout"
        }
      ]
    }
  ]
}