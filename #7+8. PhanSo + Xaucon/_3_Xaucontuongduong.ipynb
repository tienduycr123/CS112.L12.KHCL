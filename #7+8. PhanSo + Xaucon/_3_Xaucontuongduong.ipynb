{
  "nbformat": 4,
  "nbformat_minor": 0,
  "metadata": {
    "colab": {
      "name": "#3 Xaucontuongduong.ipynb",
      "provenance": [],
      "collapsed_sections": []
    },
    "kernelspec": {
      "name": "python3",
      "display_name": "Python 3"
    }
  },
  "cells": [
    {
      "cell_type": "markdown",
      "metadata": {
        "id": "tuFFGtyRHTCK"
      },
      "source": [
        "# ***xâu CON TƯƠNG ĐƯƠNG (1s, 50M)***\n",
        "\n",
        "---\n",
        "\n",
        "Cho xâu **s** chỉ chứa các ký tự la tinh thường độ dài **n** không quá $10^5$. Ký hiệu **s[i..j]** là xâu con các ký tự liên tiếp nhau của **s** từ vị trí **i** đến vị trí **j**. Hai xâu con **x = s[a..b]** và **y = s[c..d]** được gọi là cùng một lớp tương đương nếu có cách đổi chỗ các ký tự trong một xâu để nhận được xâu kia. Các vị trí được đánh số từ 1 trở đi.\n",
        "\n",
        "Ví dụ với s = “abcbacaac”, s[1..3] tương đương với s[4..6], còn s[1..3] không tương đương với s[5..7].\n",
        "\n",
        "Cho **q** truy vấn, mỗi truy vấn là 4 số nguyên **a, b, c, d** xác định các xâu con **x** và **y**. Với mỗi truy vấn hãy xác định hai xâu con này có cùng một lớp tương đương hay không và đưa ra câu trả lời tương ứng “YES” hoặc “NO”.\n",
        "\n",
        "***Dữ liệu***: Vào từ thiết bị nhập chuẩn:\n",
        "\n",
        ">Dòng đầu tiên chứa xâu **s**,\n",
        "\n",
        ">Dòng thứ 2 chứa số nguyên **q (*1 ≤  q  ≤ $10^5$*)**,\n",
        "\n",
        ">Mỗi dòng trong **q** dòng tiếp theo chứa 4 số nguyên **a, b, c, d (*1 ≤ a ≤ b ≤ n, 1 ≤ c ≤ d ≤ n*)**.\n",
        "\n",
        "***Kết quả***: Đưa ra thiết bị xuất chuẩn các câu trả lời xác định được cho mỗi truy vấn, mỗi câu trả lời trên một dòng."
      ]
    },
    {
      "cell_type": "markdown",
      "metadata": {
        "id": "t5Ny5vgJM3zp"
      },
      "source": [
        ""
      ]
    },
    {
      "cell_type": "markdown",
      "metadata": {
        "id": "Dni9iFfsMWg3"
      },
      "source": [
        "## **Abstract**\n",
        "\n",
        "---\n",
        "\n",
        "> Cho xâu **s** và số nguyên **q** truy vấn, mỗi **q** truy vấn gồm 4 số nguyên **a, b, c, d**. Hãy kiểm tra xâu con từ **a -> b** có tương đương với xâu con từ **c -> d** hay không."
      ]
    },
    {
      "cell_type": "markdown",
      "metadata": {
        "id": "3yhTO-84Qz4o"
      },
      "source": [
        "##**Pattern recognization**\n",
        "\n",
        "\n",
        "---\n",
        "***Dynamic Programming (Quy hoạch động)***\n",
        "---\n",
        "\n",
        "Đầu tiên, ta chú ý đến thời gian cho phép là 1s, với số lượng truy vấn là $10^5$ thì nếu như nhập xuất và xử lý thông thường sẽ gây ra Time Limit Exceed. Do đó, ta cần phải xử lý và gán trọng số cho các ký tự trong xâu ngay từ khi nhập vào, sau đó kiểm tra 2 xâu con tương đồng bằng cách áp dụng toán học.\n",
        "\n",
        "Vì bài toán thể hiện được tính chất của *các bài toán con gối nhau* nên ta sẽ sử dụng **Dynamic Programming** để giải bài toán.\n",
        "\n",
        ">**Ý tưởng**: \n",
        ">>Dựa theo số nguyên đại diện cho mã Unicode của ký tự, ta dùng nó để gán trọng số cho các ký tự trong xâu. Và dùng trọng số tương ứng đó, để so sánh 2 xâu con. Tuy nhiên, việc gán trọng số không chỉ dùng số nguyên đại diện mã Unicode là đủ, ta cần phải tìm ra một số đủ lớn để tìm trọng số với điều kiện là mỗi ký tự trong xâu đều khác nhau, ta có thể dễ dàng nhận ra đây là kỹ thuật **hashing**, qua đó ta có thể tìm được công thức chung tìm giá trị **hash** của các ký tự:\n",
        "\n",
        ">>>$hash(kýtự)$ = $3^{(trọngsố)}$\n",
        "![image.png](data:image/png;base64,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)\n",
        "\n",
        ">>Sau khi đã tìm ra giá trị **hash** của từng ký tự trong xâu, ta gán từng giá trị của chúng vào 1 mảng.\n",
        "\n",
        ">>Từ mảng đó, sử dụng toán học để tìm **tổng giá trị** của các ký tự trong 2 xâu con, rồi so sánh chúng với nhau.\n",
        "\n",
        ">>Nếu kết quả so sánh **tổng giá trị** của 2 xâu con mà bằng nhau, xuất YES, ngược lại xuất NO.\n",
        "\n",
        "\n",
        "\n",
        "\n",
        "\n",
        "\n",
        "\n",
        "\n"
      ]
    },
    {
      "cell_type": "markdown",
      "metadata": {
        "id": "xNn1E_tGa9kc"
      },
      "source": [
        "## **Algorithm designed**\n",
        "\n",
        "\n",
        "---\n",
        "\n",
        "**Initialize:**\n",
        ">***f*** = [0] - mảng để chứa giá trị **hash** của các ký tự trong xâu, mặc định mảng chứa 1 phần tử là 0.\n",
        "\n",
        "**Input:**\n",
        ">***s*** là biến lưu trữ xâu ký tự.\n",
        "\n",
        ">***q*** là số nguyên, chỉ số lượng truy vấn.\n",
        "\n",
        ">***a, b, c, d*** là số nguyên tố (*1 ≤ a ≤ b ≤ n, 1 ≤ c ≤ d ≤ n*).\n",
        "\n",
        "**Output:**\n",
        ">YES - 2 xâu con tương đương.\n",
        "\n",
        ">NO - 2 xâu con không tương đương.\n",
        "\n",
        "**Bắt đầu**\n",
        "\n",
        ">>**Bước 1:** Ta lập 1 hàm hash() với đầu vào là 1 kỷ tự *x*, hàm này sẽ trả về giá trị **hash** của ký tự đó, tương ứng với 3 mũ (số nguyên tố đại diện cho ký tự *x* trong bộ mã Unicode - 97) :\n",
        "\n",
        "```\n",
        "return 3^(odr(x) - 97)\n",
        "```\n",
        ">\n",
        ">>**Bước 2:** Duyệt hết xâu ***s***, đưa giá trị **hash** của từng ký tự trong xâu vào mảng có kèm theo giá trị **hash** của ký tự trước đó trong mảng.\n",
        ">\n",
        ">>**Bước 3:** Lặp đến giới hạn ***q***, để tìm kết quả.\n",
        "\n",
        "```\n",
        "    1. Nhập a, b, c, d - tương ứng với xâu con s[a..b] và s[c..d].\n",
        "\n",
        "    2. Kiểm tra nếu f[b] - f[a-1] == f[d] - f[c-1]:\n",
        "        2.1. True:\n",
        "          Print(\"YES\")\n",
        "        2.2. False:\n",
        "          Print(\"NO\")\n",
        "```\n",
        "\n",
        "**Kết thúc.**"
      ]
    },
    {
      "cell_type": "markdown",
      "metadata": {
        "id": "fOsUyL3yj_pR"
      },
      "source": [
        "**Time Complexity: O(n)**\n",
        "\n",
        "Không kể các lệnh đơn có độ phức tạp là O(1) thì trong code có dứa 2 vòng lặp for tại bước 2 và 3, đều có Time Complexity là **O(n)**.\n",
        "\n",
        "Cho nên ta sẽ có độ phức tạp cho bài toán như sau: O(n) + O(n) = O(n+n) = **O(n)**\n"
      ]
    },
    {
      "cell_type": "markdown",
      "metadata": {
        "id": "vS-SWDt9kLuA"
      },
      "source": [
        "## **CODE**\n",
        "\n",
        "---\n",
        "\n"
      ]
    },
    {
      "cell_type": "code",
      "metadata": {
        "id": "NKf1drmUkytb",
        "outputId": "aa51f19c-ef29-4036-bec7-db2b47e2ef04",
        "colab": {
          "base_uri": "https://localhost:8080/"
        }
      },
      "source": [
        "from sys import stdin, stdout\n",
        "s = stdin.readline().strip()\n",
        "\n",
        "def hash(c):\n",
        "    return 3**(ord(c) - 97)\n",
        "\n",
        "f = [0]\n",
        "for i in range(len(s)):\n",
        "    f.append(f[i] + hash(s[i]))\n",
        "\n",
        "q = int(input()) \n",
        "\n",
        "for _ in range(q):\n",
        "    a, b, c, d = map(int, stdin.readline().split())\n",
        "    if (f[b] - f[a-1] == f[d] - f[c-1]):\n",
        "        print('YES')\n",
        "    else:\n",
        "        print('NO')"
      ],
      "execution_count": null,
      "outputs": [
        {
          "output_type": "stream",
          "text": [
            "abcbacaac\n",
            "2\n",
            "1 3 4 6\n",
            "YES\n",
            "1 3 5 7\n",
            "NO\n"
          ],
          "name": "stdout"
        }
      ]
    }
  ]
}