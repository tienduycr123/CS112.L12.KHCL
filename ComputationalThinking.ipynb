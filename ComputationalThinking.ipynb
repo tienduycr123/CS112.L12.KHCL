{
  "nbformat": 4,
  "nbformat_minor": 0,
  "metadata": {
    "colab": {
      "name": "ComputationalThinking.ipynb",
      "provenance": [],
      "collapsed_sections": [],
      "toc_visible": true
    },
    "kernelspec": {
      "name": "python3",
      "display_name": "Python 3"
    }
  },
  "cells": [
    {
      "cell_type": "markdown",
      "metadata": {
        "id": "e_2zrd_-5eMi",
        "colab_type": "text"
      },
      "source": [
        "# **Computational Thinking**\n",
        "\n",
        "\n"
      ]
    },
    {
      "cell_type": "markdown",
      "metadata": {
        "id": "XVS0NlbJCNW_",
        "colab_type": "text"
      },
      "source": [
        "### **INTRODUCTION**"
      ]
    },
    {
      "cell_type": "markdown",
      "metadata": {
        "id": "s1RzDwUJMUcN",
        "colab_type": "text"
      },
      "source": [
        "**General concept**"
      ]
    },
    {
      "cell_type": "markdown",
      "metadata": {
        "id": "QE80_7CK5coz",
        "colab_type": "text"
      },
      "source": [
        ">Computational thinking opens doors for more than just\n",
        "students of technology. That's the idea that divide a complex problem in to many small part which very simple to understand and solved easily. Step by step solving the part, we will find out the solution for the problem.\n",
        "\n"
      ]
    },
    {
      "cell_type": "markdown",
      "metadata": {
        "id": "PmfOHmz06wIa",
        "colab_type": "text"
      },
      "source": [
        "> Arcoding to vice president of Microsoft Research - Jeannette Wing, Computational Thinking is the thought processes involved in formulating problems and their solutions so that the solutions are represented in a form that can be effectively carried out by an information-processing agent. The solution must be (and can be) done by human or machine, or more generally, by a combination (simultaneously) humans and machines.\n",
        "\n"
      ]
    },
    {
      "cell_type": "markdown",
      "metadata": {
        "id": "oMmT8mKuJDWz",
        "colab_type": "text"
      },
      "source": [
        "`> Computational thinking is essential attitudes and skills for everyone. It is not only those working in the computer field that have the desire to learn and use.`\n"
      ]
    },
    {
      "cell_type": "markdown",
      "metadata": {
        "id": "ymlDVd6yK65y",
        "colab_type": "text"
      },
      "source": [
        "`> Computational thinking involves problem solving, system design, and understanding human behavior, using the basic concepts of computer science. Computational thinking encompasses a wide range of thinking tools that are synthesized from a wide range of fields of computer science.`"
      ]
    },
    {
      "cell_type": "markdown",
      "metadata": {
        "id": "pMZqqdTCO8X0",
        "colab_type": "text"
      },
      "source": [
        "**Key Skills for Computational Thinking**"
      ]
    },
    {
      "cell_type": "markdown",
      "metadata": {
        "id": "nd8qHwGQPCPE",
        "colab_type": "text"
      },
      "source": [
        ">***Decomposition***"
      ]
    },
    {
      "cell_type": "markdown",
      "metadata": {
        "id": "FiIgCWmpPdP8",
        "colab_type": "text"
      },
      "source": [
        ">>Decomposition is breaking down complex problems into smaller, more manageable chunks.\n",
        "\n",
        ">>The decomposition allows us to evaluate the problem and figure out all the steps required to perform the task.\n",
        "\n",
        ">>Decomposition is an important life skill in the future when students and adults need to take on larger tasks. Students will learn ways to delegate in group projects and build time management skills. \n"
      ]
    },
    {
      "cell_type": "markdown",
      "metadata": {
        "id": "JU2jMPYFZuR0",
        "colab_type": "text"
      },
      "source": [
        ">>*Example:* the ability to identify the ingredients of an unknown meal based on its taste."
      ]
    },
    {
      "cell_type": "markdown",
      "metadata": {
        "colab_type": "text",
        "id": "8Ps55Y6lQchu"
      },
      "source": [
        ">***Pattern recognition***"
      ]
    },
    {
      "cell_type": "markdown",
      "metadata": {
        "id": "HeVD1rrIQgLO",
        "colab_type": "text"
      },
      "source": [
        ">>Pattern recognition is simply looking for patterns in the puzzles and determining could any of the problems or solutions we’ve encountered in the past apply here? What have we learned in the past that may help us sort out this problem?"
      ]
    },
    {
      "cell_type": "markdown",
      "metadata": {
        "colab_type": "text",
        "id": "Cjj_2BZSZ1_D"
      },
      "source": [
        ">>*Example:* Just as the capital markets analysts use the technical analysis to decide when they should buy or sell actions."
      ]
    },
    {
      "cell_type": "markdown",
      "metadata": {
        "id": "A52ZC-ZgQ5kd",
        "colab_type": "text"
      },
      "source": [
        ">***Pattern generalization and abstraction***"
      ]
    },
    {
      "cell_type": "markdown",
      "metadata": {
        "id": "suLvrztuRFU1",
        "colab_type": "text"
      },
      "source": [
        ">>Pattern generalization helps students learn to identify the details that are relevant to solving the problem and ignoring the details that aren’t relevant to the issue at hand. Identifying the crucial information in a problem and disregarding the irrelevant information is one of the hardest parts of computational learning. "
      ]
    },
    {
      "cell_type": "markdown",
      "metadata": {
        "colab_type": "text",
        "id": "u-QplrdXZ9Dr"
      },
      "source": [
        ">>*Example:* we use abstraction in agendas to represent a week in days and hours."
      ]
    },
    {
      "cell_type": "markdown",
      "metadata": {
        "id": "r25K68rqRNHs",
        "colab_type": "text"
      },
      "source": [
        ">***Algorithm design***"
      ]
    },
    {
      "cell_type": "markdown",
      "metadata": {
        "id": "5KJzdGsXRQts",
        "colab_type": "text"
      },
      "source": [
        ">>Algorithm design is setting out the steps and rules needed to follow in order to achieve the same desired outcome every time."
      ]
    },
    {
      "cell_type": "markdown",
      "metadata": {
        "colab_type": "text",
        "id": "nfzO4ZuvaKQe"
      },
      "source": [
        ">>*Example:* When a chef is writing a cooking recipe, for example, he is creating an algorithm which allows other people to cook the same meal by following his instructions."
      ]
    },
    {
      "cell_type": "markdown",
      "metadata": {
        "colab_type": "text",
        "id": "qmAM9I7HaeZi"
      },
      "source": [
        "`**What benefits does it bring?**`"
      ]
    },
    {
      "cell_type": "markdown",
      "metadata": {
        "id": "GkFVz9DOa3wH",
        "colab_type": "text"
      },
      "source": [
        "\n",
        "```\n",
        ">>Understanding which aspects of a problem can be solved through computer.\n",
        "\n",
        ">>To evaluate the most suitable computing tools and techniques for a problem or situation.\n",
        "\n",
        ">>To understand the limits and capacities of computing tools and techniques.\n",
        "Applying or adapting a computing tool or technique for a new use.\n",
        "\n",
        ">>To recognize the opportunities of using computing science techniques in an innovative way.\n",
        "\n",
        ">>Improve \"skills in coding\". Computer science is the fastest growing job market and students will skills in coding are highly sought after job applicants.\n",
        "```\n",
        "\n"
      ]
    },
    {
      "cell_type": "markdown",
      "metadata": {
        "id": "XesphwEhbl0_",
        "colab_type": "text"
      },
      "source": [
        "## **Let's make a situation!**\n",
        "\n",
        "\n"
      ]
    },
    {
      "cell_type": "markdown",
      "metadata": {
        "id": "FUi4Uissdp5O",
        "colab_type": "text"
      },
      "source": [
        ">*We take a situation that we want to complete a level in a videogame.*\n"
      ]
    },
    {
      "cell_type": "markdown",
      "metadata": {
        "id": "DXmexQYOe-Wz",
        "colab_type": "text"
      },
      "source": [
        "Depending on the game, to complete a level you need to know:\n",
        "\n",
        ">What items do you need to collect, how you can collect them and how long you can collect them.\n",
        "\n",
        ">Where is the exit and the best way to get there in the fastest possible time.\n",
        "\n",
        ">What types of enemies are there and their weaknesses.\n",
        "\n",
        "From these details, you can find out a strategy to complete the level most effectively."
      ]
    },
    {
      "cell_type": "markdown",
      "metadata": {
        "id": "W3mPHlTjhd5N",
        "colab_type": "text"
      },
      "source": [
        "![Untitled.png](data:image/png;base64,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)"
      ]
    },
    {
      "cell_type": "markdown",
      "metadata": {
        "id": "iKdCiInm10HS",
        "colab_type": "text"
      },
      "source": [
        "![expl-img](img/jungle.png)"
      ]
    },
    {
      "cell_type": "markdown",
      "metadata": {
        "id": "qM3IVGRwfsdm",
        "colab_type": "text"
      },
      "source": [
        "Both of the above are examples of where computational thinking has been used to solve a complex problem:\n",
        "\n",
        ">**Decomposition**: Each complex problem is broken down into many decisions and small steps (e.g. where to go, how to complete the level, which items that we need to collect,...).\n",
        "\n",
        ">**Abstraction**: Only relevant details are focused on (e.g. weather, location of the exit).\n",
        "\n",
        ">**Pattern recognition**: Previous knowledge of similar issues was used.\n",
        "\n",
        ">**Algorithms**: Find out a step-by-step action plan."
      ]
    }
  ]
}