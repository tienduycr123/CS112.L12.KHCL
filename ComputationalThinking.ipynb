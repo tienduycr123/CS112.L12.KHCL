{
  "nbformat": 4,
  "nbformat_minor": 0,
  "metadata": {
    "colab": {
      "name": "ComputationalThinking.ipynb",
      "provenance": [],
      "collapsed_sections": [],
      "toc_visible": true
    },
    "kernelspec": {
      "name": "python3",
      "display_name": "Python 3"
    }
  },
  "cells": [
    {
      "cell_type": "markdown",
      "metadata": {
        "id": "e_2zrd_-5eMi",
        "colab_type": "text"
      },
      "source": [
        "# **Computational Thinking**\n",
        "\n",
        "\n"
      ]
    },
    {
      "cell_type": "markdown",
      "metadata": {
        "id": "XVS0NlbJCNW_",
        "colab_type": "text"
      },
      "source": [
        "### **INTRODUCTION**"
      ]
    },
    {
      "cell_type": "markdown",
      "metadata": {
        "id": "s1RzDwUJMUcN",
        "colab_type": "text"
      },
      "source": [
        "**General concept**"
      ]
    },
    {
      "cell_type": "markdown",
      "metadata": {
        "id": "QE80_7CK5coz",
        "colab_type": "text"
      },
      "source": [
        ">Computational thinking opens doors for more than just\n",
        "students of technology. That's the idea that divide a complex problem in to many small part which very simple to understand and solved easily. Step by step solving the part, we will find out the solution for the problem.\n",
        "\n"
      ]
    },
    {
      "cell_type": "markdown",
      "metadata": {
        "id": "PmfOHmz06wIa",
        "colab_type": "text"
      },
      "source": [
        "> Arcoding to vice president of Microsoft Research - Jeannette Wing, Computational Thinking is the thought processes involved in formulating problems and their solutions so that the solutions are represented in a form that can be effectively carried out by an information-processing agent. The solution must be (and can be) done by human or machine, or more generally, by a combination (simultaneously) humans and machines.\n",
        "\n"
      ]
    },
    {
      "cell_type": "markdown",
      "metadata": {
        "id": "oMmT8mKuJDWz",
        "colab_type": "text"
      },
      "source": [
        "> Computational thinking is essential attitudes and skills for everyone. It is not only those working in the computer field that have the desire to learn and use.\n"
      ]
    },
    {
      "cell_type": "markdown",
      "metadata": {
        "id": "ymlDVd6yK65y",
        "colab_type": "text"
      },
      "source": [
        "> Computational thinking involves problem solving, system design, and understanding human behavior, using the basic concepts of computer science. Computational thinking encompasses a wide range of thinking tools that are synthesized from a wide range of fields of computer science."
      ]
    },
    {
      "cell_type": "markdown",
      "metadata": {
        "id": "pMZqqdTCO8X0",
        "colab_type": "text"
      },
      "source": [
        "**Key Skills for Computational Thinking**"
      ]
    },
    {
      "cell_type": "markdown",
      "metadata": {
        "id": "nd8qHwGQPCPE",
        "colab_type": "text"
      },
      "source": [
        ">***Decomposition***"
      ]
    },
    {
      "cell_type": "markdown",
      "metadata": {
        "id": "FiIgCWmpPdP8",
        "colab_type": "text"
      },
      "source": [
        ">>Decomposition is breaking down complex problems into smaller, more manageable chunks.\n",
        "\n",
        ">>The decomposition allows us to evaluate the problem and figure out all the steps required to perform the task.\n",
        "\n",
        ">>Decomposition is an important life skill in the future when students and adults need to take on larger tasks. Students will learn ways to delegate in group projects and build time management skills. \n"
      ]
    },
    {
      "cell_type": "markdown",
      "metadata": {
        "id": "JU2jMPYFZuR0",
        "colab_type": "text"
      },
      "source": [
        ">>*Example:* the ability to identify the ingredients of an unknown meal based on its taste."
      ]
    },
    {
      "cell_type": "markdown",
      "metadata": {
        "colab_type": "text",
        "id": "8Ps55Y6lQchu"
      },
      "source": [
        ">***Pattern recognition***"
      ]
    },
    {
      "cell_type": "markdown",
      "metadata": {
        "id": "HeVD1rrIQgLO",
        "colab_type": "text"
      },
      "source": [
        ">>Pattern recognition is simply looking for patterns in the puzzles and determining could any of the problems or solutions we’ve encountered in the past apply here? What have we learned in the past that may help us sort out this problem?"
      ]
    },
    {
      "cell_type": "markdown",
      "metadata": {
        "colab_type": "text",
        "id": "Cjj_2BZSZ1_D"
      },
      "source": [
        ">>*Example:* Just as the capital markets analysts use the technical analysis to decide when they should buy or sell actions."
      ]
    },
    {
      "cell_type": "markdown",
      "metadata": {
        "id": "A52ZC-ZgQ5kd",
        "colab_type": "text"
      },
      "source": [
        ">***Pattern generalization and abstraction***"
      ]
    },
    {
      "cell_type": "markdown",
      "metadata": {
        "id": "suLvrztuRFU1",
        "colab_type": "text"
      },
      "source": [
        ">>Pattern generalization helps students learn to identify the details that are relevant to solving the problem and ignoring the details that aren’t relevant to the issue at hand. Identifying the crucial information in a problem and disregarding the irrelevant information is one of the hardest parts of computational learning. "
      ]
    },
    {
      "cell_type": "markdown",
      "metadata": {
        "colab_type": "text",
        "id": "u-QplrdXZ9Dr"
      },
      "source": [
        ">>*Example:* we use abstraction in agendas to represent a week in days and hours."
      ]
    },
    {
      "cell_type": "markdown",
      "metadata": {
        "id": "r25K68rqRNHs",
        "colab_type": "text"
      },
      "source": [
        ">***Algorithm design***"
      ]
    },
    {
      "cell_type": "markdown",
      "metadata": {
        "id": "5KJzdGsXRQts",
        "colab_type": "text"
      },
      "source": [
        ">>Algorithm design is setting out the steps and rules needed to follow in order to achieve the same desired outcome every time."
      ]
    },
    {
      "cell_type": "markdown",
      "metadata": {
        "colab_type": "text",
        "id": "nfzO4ZuvaKQe"
      },
      "source": [
        ">>*Example:* When a chef is writing a cooking recipe, for example, he is creating an algorithm which allows other people to cook the same meal by following his instructions."
      ]
    },
    {
      "cell_type": "markdown",
      "metadata": {
        "colab_type": "text",
        "id": "qmAM9I7HaeZi"
      },
      "source": [
        "**What benefits does it bring?**`"
      ]
    },
    {
      "cell_type": "markdown",
      "metadata": {
        "id": "GkFVz9DOa3wH",
        "colab_type": "text"
      },
      "source": [
        "\n",
        "\n",
        ">>Understanding which aspects of a problem can be solved through computer.\n",
        "\n",
        ">>To evaluate the most suitable computing tools and techniques for a problem or situation.\n",
        "\n",
        ">>To understand the limits and capacities of computing tools and techniques.\n",
        "Applying or adapting a computing tool or technique for a new use.\n",
        "\n",
        ">>To recognize the opportunities of using computing science techniques in an innovative way.\n",
        "\n",
        ">>Improve \"skills in coding\". Computer science is the fastest growing job market and students will skills in coding are highly sought after job applicants.\n",
        "```\n",
        "\n"
      ]
    },
    {
      "cell_type": "markdown",
      "metadata": {
        "id": "XesphwEhbl0_",
        "colab_type": "text"
      },
      "source": [
        "## **Let's make a situation!**\n",
        "\n",
        "\n"
      ]
    },
    {
      "cell_type": "markdown",
      "metadata": {
        "id": "FUi4Uissdp5O",
        "colab_type": "text"
      },
      "source": [
        ">*We take a situation that we want to complete a level in a videogame.*\n"
      ]
    },
    {
      "cell_type": "markdown",
      "metadata": {
        "id": "DXmexQYOe-Wz",
        "colab_type": "text"
      },
      "source": [
        "Depending on the game, to complete a level you need to know:\n",
        "\n",
        ">What items do you need to collect, how you can collect them and how long you can collect them.\n",
        "\n",
        ">Where is the exit and the best way to get there in the fastest possible time.\n",
        "\n",
        ">What types of enemies are there and their weaknesses.\n",
        "\n",
        "From these details, you can find out a strategy to complete the level most effectively."
      ]
    },
    {
      "cell_type": "markdown",
      "metadata": {
        "id": "iKdCiInm10HS",
        "colab_type": "text"
      },
      "source": [
        "![expl-img](img/jungle.png)"
      ]
    },
    {
      "cell_type": "markdown",
      "metadata": {
        "id": "qM3IVGRwfsdm",
        "colab_type": "text"
      },
      "source": [
        "Both of the above are examples of where computational thinking has been used to solve a complex problem:\n",
        "\n",
        ">**Decomposition**: Each complex problem is broken down into many decisions and small steps (e.g. where to go, how to complete the level, which items that we need to collect,...).\n",
        "\n",
        ">**Abstraction**: Only relevant details are focused on (e.g. weather, location of the exit).\n",
        "\n",
        ">**Pattern recognition**: Previous knowledge of similar issues was used.\n",
        "\n",
        ">**Algorithms**: Find out a step-by-step action plan."
      ]
    }
  ]
}
