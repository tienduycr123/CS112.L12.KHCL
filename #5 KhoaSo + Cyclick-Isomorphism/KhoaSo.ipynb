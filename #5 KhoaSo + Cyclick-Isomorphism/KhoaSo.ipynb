{
  "nbformat": 4,
  "nbformat_minor": 0,
  "metadata": {
    "colab": {
      "name": "KhoaSo.ipynb",
      "provenance": [],
      "collapsed_sections": []
    },
    "kernelspec": {
      "name": "python3",
      "display_name": "Python 3"
    }
  },
  "cells": [
    {
      "cell_type": "markdown",
      "metadata": {
        "id": "iAcPWqMEv0kV"
      },
      "source": [
        "# **KHÓA SỐ (0.15s, 100MB)**\n",
        "---\n",
        "Để tăng độ an toàn chống hiện tượng cướp ngân hàng ngày càng phổ biến người ta dùng khóa số với mã mở khóa đơn giản nhưng rất hiệu quả. Trên cửa ra vào hiển thị một xâu khá dài các ký tự số. Các chữ số có thể di chuyển đổi chổ cho nhau hoặc bị xóa. Muốn mở khóa người ta phải di chuyển các chữ số và trong trường hợp cần thiết – xóa vài chữ số để nhận được xâu lớn nhất thỏa mãn điều kiện đã cài đặt. Điều kiện này được thay đổi thường xuyên. Hôm nay điều kiện đó là *“Số nhận được phải chia hết cho 3”*. Số nhận được có thể bắt đầu bằng các chữ số 0. Xâu “000” sẽ lớn hơn xâu “00”.\n",
        "\n",
        "Hãy xác định khóa mở cửa.\n",
        "\n",
        "**Dữ liệu:** Vào từ thiết bị nhập chuẩn gồm một xâu ký tự số có độ dài lớn hơn 2 và không vượt quá 10^5.\n",
        "\n",
        "**Kết quả:** Đưa ra thiết bị xuất chuẩn xâu khóa mở cửa."
      ]
    },
    {
      "cell_type": "markdown",
      "metadata": {
        "id": "NYo8Lv7iwPZ8"
      },
      "source": [
        "## **Abstract**\n",
        "\n",
        "---\n",
        "Cho một chuỗi ký tự số có độ dài n (2 < n < 10^5 ), tìm chuỗi ký tự con tạo thành một số lớn nhất chia hết cho 3."
      ]
    },
    {
      "cell_type": "markdown",
      "metadata": {
        "id": "yVRKuEBw5nXP"
      },
      "source": [
        "## **Pattern recognization**\n",
        "---\n",
        ">**Sắp xếp:** Sắp xếp chuỗi ký tự ban đầu giảm dần để tạo thành 1 chuỗi ký tự mới, sau khi ép kiểu thành int sẽ tạo thành chuỗi số lớn nhất \n",
        "\n",
        ">**Áp dụng tính chất chia lấy dư cho 3 (từ toán học) để tìm vị trí:** \n",
        "\n",
        "1.   Tìm các số có khả năng gây ra số dư khi chia số được tạo ra từ chuỗi số cho 3\n",
        "2.   Loại bỏ các số tìm được ở bước 1, sao cho sau khi loại bỏ thì chuỗi số mới được tạo ra có thể tạo thành số lớn nhất.\n",
        "\n",
        ">Pattern Recognization: **Dynamic Programming**"
      ]
    },
    {
      "cell_type": "markdown",
      "metadata": {
        "id": "zNXNz-vaSRsE"
      },
      "source": [
        "##**Time Complexity:**\n",
        "Thuật toán gồm 2 bước:\n",
        "\n",
        "\n",
        "1.   Sắp xếp\n",
        ">**Độ phức tạp: O(nlog(n))**\n",
        "2.   Tìm kiếm\n",
        ">**Độ phức tạp: O(n)**\n",
        "\n",
        "**Độ phức tạp thuật toán:**\n",
        ">  O(nlog(n) + n) = **O(n)**"
      ]
    },
    {
      "cell_type": "markdown",
      "metadata": {
        "id": "p7iptSlk86BX"
      },
      "source": [
        "## **Algorithm designed**\n",
        "\n",
        "---\n",
        "**Input:** 1 chuỗi ký tự số có độ dài n (với 2 < n < 10^5).\n",
        "\n",
        "**Output:** chuỗi ký tự con có khả năng tạo thành một số lớn nhất và chia hết cho 3\n",
        "\n",
        "\n",
        "\n",
        "\n",
        "\n",
        "\n",
        "**Thuật toán:**\n",
        "Sau khi khởi tạo, thực hiện lần lượt các bước sau:\n",
        "\n",
        "***BƯỚC 1:*** Khởi tạo\n",
        "\n",
        "1.  n\n",
        ">chuỗi ký tự người dùng nhập (2 < n < 10^5) \n",
        "2.  a[ ]\n",
        ">mảng chứa chuỗi ký tự n sau khi ép kiểu xâu ký tự n thành list\n",
        "3.  intn\n",
        ">số được tạo ra sau khi ép kiểu chuỗi ký tự n thành int\n",
        "4.  s\n",
        ">giá trị số dư, sau khi chia lấy dư intn cho 3\n",
        "\n",
        "***BƯỚC 2:*** SORT mảng a[ ]\n",
        "\n",
        "***BƯỚC 3:***\n",
        "\n",
        "**1.**   Tạo hàm Search1 với biến đầu vào là mảng a[ ] và số nguyên d để tìm vị trí của d tại vị trí thứ i trong mảng sao cho a[i]%3 == d, nếu không tìm thấy d thì trả kết quả về -1, mã giả như sau:\n",
        "\n",
        "```\n",
        "#Xét nếu d có nằm trong mảng a thì trả về vị trí d\n",
        "#Nếu d không có trong a, lặp lại bước xét với d với tăng thêm 3 đơn vị, miễn là việc tăng thêm không quá d+6:\n",
        "\n",
        "    while d != (d+6):\n",
        "      if d in a: \n",
        "        <Gán vị trí của d trong a vào i>\n",
        "     d = d + 3 \n",
        "    <Sau khi out vòng lặp thì trả về kết quả i>\n",
        "\n",
        "#Nếu không tìm thấy d thì trả kết quả cho hàm là i=-1\n",
        "    i = -1\n",
        "```\n",
        "\n",
        "**2.**   Tạo hàm Search2 với biến đầu vào là mảng a[ ] và số nguyên d để tìm vị trí thứ i và j trong mảng sao cho a[i]%3 == d, a[j]%3 == d, nếu không tìm thấy d thì trả kết quả về -1. Hàm Search2 có thể được thực hiện bằng cách gọi lại 2 lần hàm Search1, mã giả như sau:\n",
        "\n",
        "```\n",
        "#Đầu tiên ta tìm kết quả cho i:\n",
        "    Gán i = Search1(a, d)\n",
        "\n",
        "#Sau đó ta tìm kết quả cho j:\n",
        "    Gán j = Search1(a, d)\n",
        "#Gọi lại làm Search1 cùng với đầu vào là mảng a và số nguyên d (nhưng sẽ bắt đầu tìm ở vị trí thứ i+1 để tối ưu hóa thời gian) \n",
        "\n",
        "    <Trả về kết quả i và j>\n",
        "```\n",
        "\n",
        ">**Trường hợp 1:** \n",
        ">>Số sau khi chia lấy dư (intn%3) có kết quả bằng 0. Tức là chuỗi số này chứa các số ở dạng thuần 0 (00000...) hoặc chuỗi số này có thể tạo thành 1 số chia hết cho 3, thì xuất ra màn hình chuỗi số này (mảng a) ở dạng string.\n",
        "\n",
        ">**Trường hợp 2:**\n",
        ">>Kiểm tra nếu khi xét vị trí dựa vào hàm Search1 với đầu vào là mảng a và số dư s, mà có kết quả trả về là -1. Thì ta bắt đầu xét vị trí i, j dựa vào hàm Search2 với đầu vào là mảng a và số dư (s*2)%3 (Mục đích là chia cái số dư đó ra làm 2, để tìm trong mảng vị trí của 2 số giống nhau) và trả về i, j. \n",
        "\n",
        ">>Sau khi tìm được i, j. Remove các số nằm ở vị trí thứ i, j trong mảng a và xuất mảng a ra ở dạng string.\n",
        "\n",
        ">**Trường hợp 3:**\n",
        ">>Ngược lại với trường hợp 2, nếu tìm được vị trí thứ i thì Remove các số nằm ở vị trí thứ i. Rồi sau đó xuất mảng a ra ở dạng string.\n",
        "\n",
        "**END.**\n"
      ]
    },
    {
      "cell_type": "code",
      "metadata": {
        "id": "OewGTZ-hsLMv",
        "outputId": "a1a6d229-f2a8-429b-a132-61bf4c888fbf",
        "colab": {
          "base_uri": "https://localhost:8080/",
          "height": 50
        }
      },
      "source": [
        "n = input()\n",
        "a = list(n)\n",
        "intn = int(n)\n",
        "a.sort()\n",
        "\n",
        "if intn%3 == 0:\n",
        "    print(\"\".join(sorted(a, reverse=True)))\n",
        "    exit()\n",
        "\n",
        "s = intn % 3\n",
        "    \n",
        "def Search1(a, d):\n",
        "    i = -1\n",
        "    if str(d) in a:\n",
        "        i = a.index(str(d))\n",
        "    elif str(d + 3) in a:\n",
        "        i = a.index(str(d+3))\n",
        "    elif str(d + 6) in a:\n",
        "        i = a.index(str(d+6))\n",
        "    return i\n",
        "def Search2(a, d):\n",
        "    i = Search1(a, d)\n",
        "    j = Search1(a[i+1:],d) +i+1\n",
        "    return i, j\n",
        "\n",
        "vitri1 = Search1(a, s)\n",
        "\n",
        "if (vitri1 == -1):\n",
        "    i,j = Search2(a, (s*2)%3)\n",
        "    if i!= -1 and j!= -1:\n",
        "       a.remove(a[i])\n",
        "       a.remove(a[j-1])\n",
        "       a.reverse()\n",
        "       if (len(a)==1):\n",
        "         print(str(''.join(a[0])))\n",
        "       else:\n",
        "         print(''.join(a))\n",
        "    exit()\n",
        "else:\n",
        "    a.remove(a[vitri1])\n",
        "    if a != []:\n",
        "       a.reverse()\n",
        "       print(''.join(a))\n"
      ],
      "execution_count": null,
      "outputs": [
        {
          "output_type": "stream",
          "text": [
            "12347\n",
            "7431\n"
          ],
          "name": "stdout"
        }
      ]
    }
  ]
}
