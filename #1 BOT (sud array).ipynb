{
 "cells": [
  {
   "cell_type": "markdown",
   "metadata": {
    "colab_type": "text",
    "id": "AAlPH66iHAu8"
   },
   "source": [
    "**Abstraction**\n",
    "\n",
    "*   Largest sum continuous sub-array in an *n* elements array"
   ]
  },
  {
   "cell_type": "markdown",
   "metadata": {
    "colab_type": "text",
    "id": "hJEF0sqPHf31"
   },
   "source": [
    "**Pattern recognization**\n",
    "\n",
    "*   Dynamic Programming"
   ]
  },
  {
   "cell_type": "markdown",
   "metadata": {
    "colab_type": "text",
    "id": "s_BJmAj-IIUj"
   },
   "source": [
    "**Algorithm designed**\n",
    "\n",
    "Input: *n* is an integer, *1 <= n <= 10^6*\n",
    "\n",
    "*a* is an array with *a0*, *a1*, *a2*,...\n",
    "\n",
    "Temp: \n",
    "\n",
    "Output: \n",
    "\n",
    "Initialize:\n",
    "```\n",
    "max_so_far = 0\n",
    "max_ending_here = 0\n",
    "```\n",
    "Loop *i* from 0 to *n - 1* for each element of the array *a*:\n",
    "```\n",
    "  (a) max_ending_here = max_ending_here + a[i]\n",
    "\n",
    "  (b) if(max_so_far < max_ending_here)\n",
    "            max_so_far = max_ending_here\n",
    "  (c) if(max_ending_here < 0)\n",
    "            max_ending_here = 0\n",
    "```\n",
    "Result:\n",
    "\n",
    "`return max_so_far`"
   ]
  },
  {
   "cell_type": "markdown",
   "metadata": {
    "colab_type": "text",
    "id": "PIeYmq5JJ4mZ"
   },
   "source": [
    "**Time Complexity: O(n)**"
   ]
  },
  {
   "cell_type": "code",
   "execution_count": null,
   "metadata": {
    "colab": {
     "base_uri": "https://localhost:8080/",
     "height": 103
    },
    "colab_type": "code",
    "executionInfo": {
     "elapsed": 21041,
     "status": "ok",
     "timestamp": 1599726823817,
     "user": {
      "displayName": "Thien Nguyen Duc",
      "photoUrl": "",
      "userId": "10227331067296895887"
     },
     "user_tz": -420
    },
    "id": "rYdxV2PtZKd9",
    "outputId": "16245143-e239-4717-9d21-5704000b869b"
   },
   "outputs": [
    {
     "name": "stdout",
     "output_type": "stream",
     "text": [
      "16\n",
      "2 -4 5 -8 4 -1 -1 1 1 1 -2 2 4 -6 9 -4\n",
      "5\n",
      "15\n",
      "12\n"
     ]
    }
   ],
   "source": [
    "# Python program to print largest contiguous array sum \n",
    "  \n",
    "# Function to find the maximum contiguous subarray \n",
    "# and print its starting and end index \n",
    "def maxSubArraySum(a,size): \n",
    "  \n",
    "  max_so_far = - 1\n",
    "  max_ending_here = 0\n",
    "  start = 0\n",
    "  end = 0\n",
    "  s = 0\n",
    "  \n",
    "  for i in range(0,size):   \n",
    "    max_ending_here += a[i] \n",
    "\n",
    "    if max_so_far < max_ending_here:\n",
    "      max_so_far = max_ending_here \n",
    "      start = s \n",
    "      end = i \n",
    "\n",
    "    if max_ending_here < 0:\n",
    "      max_ending_here = 0\n",
    "      s = i+1\n",
    "  \n",
    "  print (start+1, end+1, max_so_far)\n",
    "\n",
    "# Program to test maxSubArraySum \n",
    "n = int(input())\n",
    "\n",
    "a = []\n",
    "\n",
    "a = list(map(int, input().split())) \n",
    "\n",
    "maxSubArraySum(a,len(a))"
   ]
  }
 ],
 "metadata": {
  "colab": {
   "authorship_tag": "ABX9TyO75s4hycJjazUqaX8HUepO",
   "name": "#1 BOT (sud array).ipynb",
   "provenance": []
  },
  "kernelspec": {
   "display_name": "Python 3",
   "language": "python",
   "name": "python3"
  },
  "language_info": {
   "codemirror_mode": {
    "name": "ipython",
    "version": 3
   },
   "file_extension": ".py",
   "mimetype": "text/x-python",
   "name": "python",
   "nbconvert_exporter": "python",
   "pygments_lexer": "ipython3",
   "version": "3.7.6"
  }
 },
 "nbformat": 4,
 "nbformat_minor": 1
}
