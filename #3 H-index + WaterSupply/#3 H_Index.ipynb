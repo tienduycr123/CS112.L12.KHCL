{
  "nbformat": 4,
  "nbformat_minor": 0,
  "metadata": {
    "colab": {
      "name": "H-Index.ipynb",
      "provenance": [],
      "collapsed_sections": []
    },
    "kernelspec": {
      "name": "python3",
      "display_name": "Python 3"
    }
  },
  "cells": [
    {
      "cell_type": "markdown",
      "metadata": {
        "id": "tuFFGtyRHTCK"
      },
      "source": [
        "# ***H-INDEX***\n",
        "\n",
        "---\n",
        "\n",
        "**Làm thế nào để đánh giá sự thành công của một nhà khoa học?  Dựa vào số bài báo được công bố hay dựa vào số lần một bài báo được trích dẫn tới ở công trình của những người khác? Cả hai tham số đó đều quan trọng.**\n",
        "\n",
        "\n",
        "Một bài báo có điểm số trích dẫn là c nếu nó được trích dẫn tới c lần trong các công trình của những nhà khoa học khác. Một trong số các cách đánh giá sự thành công của một nhà khoa học là tính chỉ số ảnh hưởng H_Index dựa trên sự kết hợp giữa số lượng bài báo và chỉ số trích dẫn của các bài báo đó.\n",
        "\n",
        "Chỉ số H_Indexcủa một nhà khoa học bằng k lớn nhất nếu người đó có k bài báo, mỗi bài có điểm số trích dẫn không nhỏ hơn k. Ví dụ, một người có 10 bài báo, mỗi bài báo được trích dẫn không dưới 10 lần thì H_Index của người đó ít nhất là bằng 10.\n",
        "\n",
        "Một người có n bài báo, bài báo thứ i có điểm trích dẫn là ci, i = 1 ÷ n. Hãy xác định H_Index của người đó.\n",
        "\n",
        "**Dữ liệu**: nhập từ thiết bị nhập chuẩn:\n",
        "\n",
        "Dòng đầu tiên chứa một số nguyên n (1 ≤ n ≤ 5×10^5).\n",
        "\n",
        "Dòng thứ 2 chứa n số nguyên c1, c2, . . ., cn (0 ≤ ci ≤ 10^6, i = 1 ÷ n).\n",
        "\n",
        "**Kết quả**: Đưa ra thiết bị xuất chuẩn một số nguyên – H_Index tìm được."
      ]
    },
    {
      "cell_type": "markdown",
      "metadata": {
        "id": "Dni9iFfsMWg3"
      },
      "source": [
        "## **Abstract**\n",
        "\n",
        "---\n",
        "\n",
        "> Given ***n*** and an array with ***n*** elements. Comparing ***n*** with each elements ​​in the array, if ***n*** is less, then reduce ***n*** by one unit. Find the amount of elements which greater than ***n*** at the end of the comparison."
      ]
    },
    {
      "cell_type": "markdown",
      "metadata": {
        "id": "3yhTO-84Qz4o"
      },
      "source": [
        "## **Pattern recognization**\n",
        "\n",
        "\n",
        "---\n",
        "\n",
        "\n",
        "> Dynamic Programming\n",
        "\n",
        "\n",
        "\n"
      ]
    },
    {
      "cell_type": "markdown",
      "metadata": {
        "id": "xNn1E_tGa9kc"
      },
      "source": [
        "## **Algorithm designed**\n",
        "\n",
        "\n",
        "---\n",
        "\n",
        "\n",
        "Input: \n",
        "> ***n*** is an integer (1 <= ***n*** <= 10^5)\n",
        "\n",
        "> ***a*** is an array with a0, a1, a2,... ai ( *i* = ***n*** - 1)\n",
        "\n",
        "Output:\n",
        "> the amount of elements greater than ***n*** at the end of comparison\n",
        "\n",
        "Initialize:\n",
        "```\n",
        "    #copy n\n",
        "    amount = n\n",
        "```\n",
        "Sort arrays in ascending order first\n",
        "\n",
        "Make a Def: Loop *i* from 0 to *n-1* for each element of the array a:\n",
        "```\n",
        "    #If amount finds a value that less than it, amount will reduce one unit:\n",
        "    if(a[i]<amount):\n",
        "      amount = amount - 1\n",
        "\n",
        "    #To optimize, the loop will be broken if amount find an array element that has a greater value:\n",
        "    if(a[i] >= amount):\n",
        "      break\n",
        "```\n",
        "\n",
        "Print:\n",
        "\n",
        "```\n",
        "amount\n",
        "```\n",
        "End."
      ]
    },
    {
      "cell_type": "markdown",
      "metadata": {
        "id": "fOsUyL3yj_pR"
      },
      "source": [
        "**Time Complexity : O(*nlogn + n*)**\n",
        "\n",
        "**Space Complexity : O(1)**"
      ]
    },
    {
      "cell_type": "markdown",
      "metadata": {
        "id": "vS-SWDt9kLuA"
      },
      "source": [
        "## **CODE**\n",
        "\n",
        "---\n",
        "\n"
      ]
    },
    {
      "cell_type": "code",
      "metadata": {
        "id": "NKf1drmUkytb",
        "outputId": "75b8322d-7af0-4053-e3ba-61ae10a317e9",
        "colab": {
          "base_uri": "https://localhost:8080/",
          "height": 68
        }
      },
      "source": [
        "def Sum(a,size): \n",
        "  amount = size\n",
        "  a.sort()\n",
        "  for i in range(0,size):\n",
        "     if(a[i]<amount):\n",
        "         amount = amount - 1\n",
        "     if(a[i] >= amount):\n",
        "         break\n",
        "  print (amount)\n",
        " #main\n",
        "n = int(input())\n",
        "if (n > 0):\n",
        "  a = []\n",
        "  \n",
        "  a = list(map(int, input().split())) \n",
        " \n",
        "Sum(a, n)"
      ],
      "execution_count": null,
      "outputs": [
        {
          "output_type": "stream",
          "text": [
            "6\n",
            "5 6 7 8 9 10\n",
            "5\n"
          ],
          "name": "stdout"
        }
      ]
    }
  ]
}